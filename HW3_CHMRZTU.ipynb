{
  "nbformat": 4,
  "nbformat_minor": 0,
  "metadata": {
    "colab": {
      "provenance": []
    },
    "kernelspec": {
      "name": "python3",
      "display_name": "Python 3"
    },
    "language_info": {
      "name": "python"
    }
  },
  "cells": [
    {
      "cell_type": "code",
      "execution_count": 139,
      "metadata": {
        "id": "khICEatyZ4B6"
      },
      "outputs": [],
      "source": [
        "import numpy as np\n",
        "import matplotlib.pyplot as plt\n",
        "np.random.seed(0)\n",
        "n_samples = 15"
      ]
    },
    {
      "cell_type": "code",
      "source": [
        "X = np.random.rand(n_samples, 2)\n",
        "Y = (((5*X[:, 0]-0.9))+(-4*X[:, 1]-0.1) > 0.5)\n",
        "Y = np.array([(lambda elem: 1 if elem else -1)(xi) for xi in Y])"
      ],
      "metadata": {
        "id": "9o59yY-5Z5kQ"
      },
      "execution_count": 151,
      "outputs": []
    },
    {
      "cell_type": "code",
      "source": [
        "def adaline(data, target, weights, bias, learn_rate, eps):\n",
        "  i = 0\n",
        "  j = 0\n",
        "  err = 0\n",
        "  while True:\n",
        "    i = i % len(data)\n",
        "    y = weights @ data[i] + bias\n",
        "    temp_err = err\n",
        "    err = target[i] - y\n",
        "    temp_w = weights\n",
        "    weights = weights + 2 * learn_rate * err * data[i]\n",
        "    bias = bias + 2 * learn_rate * err\n",
        "    i += 1\n",
        "    j += 1\n",
        "    if (abs(err) < eps):\n",
        "        break\n",
        "  return weights, bias, j\n"
      ],
      "metadata": {
        "id": "PMViZoVRVV17"
      },
      "execution_count": 150,
      "outputs": []
    },
    {
      "cell_type": "code",
      "source": [
        "#инициализация весов и смещения\n",
        "W = np.array([100, -100])\n",
        "b = 0\n",
        "iters = 0"
      ],
      "metadata": {
        "id": "huBy5mEaZ7UR"
      },
      "execution_count": 176,
      "outputs": []
    },
    {
      "cell_type": "code",
      "source": [
        "W, b, iters = adaline(X, Y, W, b, 0.1, 1e-2)\n",
        "print(W, b, iters)"
      ],
      "metadata": {
        "id": "7LKLL1KFWLEe",
        "colab": {
          "base_uri": "https://localhost:8080/"
        },
        "outputId": "6a9f1939-58df-4d65-e5a1-e043eb94a990"
      },
      "execution_count": 177,
      "outputs": [
        {
          "output_type": "stream",
          "name": "stdout",
          "text": [
            "[ 4.57054196 -2.68106225] -2.031221213542649 265\n"
          ]
        }
      ]
    },
    {
      "cell_type": "code",
      "source": [
        "x = np.arange(-10, 10, 0.1)\n",
        "fig = plt.figure(figsize=(4, 4))\n",
        "ax = plt.gca()\n",
        "\n",
        "for i in range(0, n_samples):\n",
        "  if (Y[i] == 1):\n",
        "    plt.scatter(X[i, 0], X[i, 1], color = \"g\", marker = \"+\")\n",
        "  else:\n",
        "    plt.scatter(X[i, 0], X[i, 1], color = \"r\", marker = \".\")\n",
        "y = - (W[0] / W[1]) * x - (b / W[1])\n",
        "plt.plot(x, y, color = \"black\")\n",
        "plt.ylim([0, 1])\n",
        "plt.xlim([0, 1])\n",
        "ax.spines['top'].set_visible(False)\n",
        "ax.spines['right'].set_visible(False)\n"
      ],
      "metadata": {
        "colab": {
          "base_uri": "https://localhost:8080/",
          "height": 374
        },
        "id": "oor2ydT7cx4x",
        "outputId": "b51832d8-1e33-47ef-92f0-14d7ef93dca7"
      },
      "execution_count": 178,
      "outputs": [
        {
          "output_type": "display_data",
          "data": {
            "text/plain": [
              "<Figure size 400x400 with 1 Axes>"
            ],
            "image/png": "[encoded data removed]"
          },
          "metadata": {}
        }
      ]
    },
    {
      "cell_type": "code",
      "source": [
        "def eigg(data):\n",
        "    mat = np.sum([el[:,np.newaxis]@el[np.newaxis,:] for el in data],0)/len(data)\n",
        "    return (np.linalg.eig(mat)[0])"
      ],
      "metadata": {
        "id": "l4YD8lPvMq1O"
      },
      "execution_count": 144,
      "outputs": []
    },
    {
      "cell_type": "code",
      "source": [
        "eigg(X)"
      ],
      "metadata": {
        "colab": {
          "base_uri": "https://localhost:8080/"
        },
        "id": "fK4sioXHLp14",
        "outputId": "ab76446c-e186-4b58-b76e-4fc9f1bf4ac8"
      },
      "execution_count": 145,
      "outputs": [
        {
          "output_type": "execute_result",
          "data": {
            "text/plain": [
              "array([0.0747832 , 0.75761342])"
            ]
          },
          "metadata": {},
          "execution_count": 145
        }
      ]
    }
  ]
}