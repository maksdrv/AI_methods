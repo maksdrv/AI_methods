{
  "nbformat": 4,
  "nbformat_minor": 0,
  "metadata": {
    "colab": {
      "provenance": []
    },
    "kernelspec": {
      "name": "python3",
      "display_name": "Python 3"
    },
    "language_info": {
      "name": "python"
    }
  },
  "cells": [
    {
      "cell_type": "code",
      "source": [
        "import numpy as np\n",
        "import math"
      ],
      "metadata": {
        "id": "o0HrMWqZ0t1X"
      },
      "execution_count": null,
      "outputs": []
    },
    {
      "cell_type": "code",
      "execution_count": 18,
      "metadata": {
        "id": "7aFeWXxjuTtI"
      },
      "outputs": [],
      "source": [
        "#Вариант 4\n",
        "\n",
        "def LoadTest(num):\n",
        "  if num == 1: #хорошо обусловленная\n",
        "    A = np.array([\n",
        "        [-62.8000, -6.9700, 7.7300, 0.0000],\n",
        "        [0.0000, 49.4000, -3.5600, -4.5700],\n",
        "        [-7.1100, -5.9700, 97.6000, -7.5800],\n",
        "        [6.8100, -1.2900, -7.9500, 42.2000]\n",
        "    ], dtype = \"float64\")\n",
        "    b = np.array([-221.3100, -523.8800, 1121.6300, 294.6700], dtype = \"float64\")\n",
        "    sol = np.array([6, -9, 12, 8], dtype = \"float64\")\n",
        "  if num == 2: #плохо обусловленная\n",
        "    A = np.array([\n",
        "        [0.0500, -10.4550, -5.3550, 1.7850],\n",
        "        [0.0000, 12.6410, 6.3210, -2.1070],\n",
        "        [0.3600, 15.4650, 7.0850, -2.3750],\n",
        "        [1.0800, 120.4410, 58.2810, -19.4670]\n",
        "    ], dtype = \"float64\")\n",
        "    b = np.array([26.2450+0.01, -29.4990-0.01, -24.5950+0.01, -246.5790-0.01], dtype = \"float64\")\n",
        "    sol = np.array([20, 1, -6, 2], dtype = \"float64\")\n",
        "  return A, b, sol\n"
      ]
    },
    {
      "cell_type": "code",
      "source": [
        "def house(x):\n",
        "  n=len(x); mu=np.linalg.norm(x); v=np.copy(x)\n",
        "  if mu:\n",
        "    beta=x[0]+(1.0 if x[0] >= 0 else -1.0)*mu\n",
        "    v[1:]/=beta\n",
        "  v[0]=1.0\n",
        "  return v\n",
        "\n",
        "def row_house(A,v):\n",
        "  beta = -2.0 / np.dot(v,v)\n",
        "  w = beta * np.matmul(A.T,v)\n",
        "  A+=np.outer(v,w)\n",
        "\n",
        "def col_house(A,v):\n",
        "  beta = -2.0 / np.dot(v,v)\n",
        "  w = beta * np.matmul(A,v)\n",
        "  A+=np.outer(w,v)\n",
        "\n",
        "def house_QR(A):\n",
        "  m,n=A.shape\n",
        "  for j in range(n):\n",
        "    v=house(A[j:,j])\n",
        "    row_house(A[j:,j:],v)\n",
        "    if j<m-1:\n",
        "      A[j+1:,j]=v[1:]\n",
        "\n",
        "def rev_subs(U,b):\n",
        "  n=len(b)\n",
        "  b[n-1]/=U[n-1,n-1]\n",
        "  for i in range(n-2,-1,-1):\n",
        "    b[i]=(b[i]-np.dot(U[i,i+1:],b[i+1:]))/U[i,i]\n",
        "\n",
        "def row_house_vec(x,v):\n",
        "  beta = -2.0 * np.dot(v,x) / np.dot(v,v)\n",
        "  x += beta * v\n",
        "\n",
        "def solve_house(A,b):\n",
        "  house_QR(A)\n",
        "  _,n=A.shape\n",
        "  v=np.zeros(n)\n",
        "  for j in range(n):\n",
        "    v[j]=1.0; v[j+1:]=A[j+1:,j]\n",
        "    row_house_vec(b[j:],v[j:])\n",
        "  rev_subs(A,b)"
      ],
      "metadata": {
        "id": "MDNsuexr2fED"
      },
      "execution_count": null,
      "outputs": []
    },
    {
      "cell_type": "code",
      "source": [
        "A, b, sol = LoadTest(1)\n",
        "\n",
        "solve_house(A, b)\n",
        "print(\"Решение: \", b)\n",
        "print(\"Абсолютная ошибка: \", b - sol)\n",
        "print(\"Относительная ошибка: \", (b - sol) / np.linalg.norm(b-sol))\n",
        "A, f, sol = LoadTest(1)\n",
        "\n",
        "print(\"\\nНевязка: \", A@b - f)\n",
        "print(\"1-норма: \", np.linalg.norm(A@b - f, ord = 1))\n",
        "print(\"inf-норма: \", np.linalg.norm(A@b - f, ord = math.inf))\n",
        "print(\"\\nЧисло обусловленности системы: \")\n",
        "print(\"1-норма: \", np.linalg.cond(A, p = 1))\n",
        "print(\"inf-норма: \", np.linalg.cond(A, p = math.inf))\n",
        "\n",
        "A, b, sol = LoadTest(2)\n",
        "\n",
        "solve_house(A, b)\n",
        "print(\"\\nРешение: \", b)\n",
        "print(\"Абсолютная ошибка: \", b - sol)\n",
        "print(\"Относительная ошибка: \", (b - sol) / np.linalg.norm(b-sol))\n",
        "\n",
        "A, f, sol = LoadTest(2)\n",
        "\n",
        "print(\"\\nНевязка: \", A@b - f)\n",
        "print(\"1-норма: \", np.linalg.norm(A@b - f, ord = 1))\n",
        "print(\"inf-норма: \", np.linalg.norm(A@b - f, ord = math.inf))\n",
        "print(\"\\nЧисло обусловленности системы: \")\n",
        "print(\"1-норма: \", np.linalg.cond(A, p = 1))\n",
        "print(\"inf-норма: \", np.linalg.cond(A, p = math.inf))"
      ],
      "metadata": {
        "colab": {
          "base_uri": "https://localhost:8080/"
        },
        "id": "YkBiEtgz0htx",
        "outputId": "deda5d95-64d4-4758-87f2-f5bc86de5edb"
      },
      "execution_count": 19,
      "outputs": [
        {
          "output_type": "stream",
          "name": "stdout",
          "text": [
            "Решение:  [ 6. -9. 12.  8.]\n",
            "Абсолютная ошибка:  [ 0.00000000e+00  0.00000000e+00  0.00000000e+00 -1.77635684e-15]\n",
            "Относительная ошибка:  [ 0.  0.  0. -1.]\n",
            "\n",
            "Невязка:  [ 2.84217094e-14  0.00000000e+00 -4.54747351e-13 -5.68434189e-14]\n",
            "1-норма:  5.400124791776761e-13\n",
            "inf-норма:  4.547473508864641e-13\n",
            "\n",
            "Число обусловленности системы: \n",
            "1-норма:  3.3379041290652394\n",
            "inf-норма:  3.49769768291856\n",
            "\n",
            "Решение:  [ 683.19999749 -129.46666617 1995.6666591  5224.26664694]\n",
            "Абсолютная ошибка:  [ 663.19999749 -130.46666617 2001.6666591  5222.26664694]\n",
            "Относительная ошибка:  [ 0.11772568 -0.02315934  0.35531901  0.92701279]\n",
            "\n",
            "Невязка:  [-2.62190269e-12  7.26174676e-12  8.70414851e-13  7.33280103e-12]\n",
            "1-норма:  1.808686533877335e-11\n",
            "inf-норма:  7.332801033044234e-12\n",
            "\n",
            "Число обусловленности системы: \n",
            "1-норма:  401918895.2910938\n",
            "inf-норма:  552318536.5954505\n"
          ]
        }
      ]
    },
    {
      "cell_type": "code",
      "source": [
        "A, _, _ = LoadTest(2)\n",
        "x = []\n",
        "def house_inverse(A):\n",
        "  _,n = A.shape\n",
        "  temp = A\n",
        "  e = np.eye(n)\n",
        "  temp_e = e\n",
        "  for i in range(n):\n",
        "    A = np.copy(temp)\n",
        "    e = np.copy(temp_e)\n",
        "    solve_house(A, e[i])\n",
        "    x.append(e[i])\n",
        "  return np.transpose(np.array(x))\n",
        "\n",
        "A_inv = house_inverse(A)\n",
        "A, _, _ = LoadTest(2)\n",
        "\n",
        "display(A_inv.dot(A))"
      ],
      "metadata": {
        "colab": {
          "base_uri": "https://localhost:8080/",
          "height": 156
        },
        "id": "c6aEuZH-0ELr",
        "outputId": "b3aec7b2-bf43-4369-a93b-120c2012ec3e"
      },
      "execution_count": null,
      "outputs": [
        {
          "output_type": "display_data",
          "data": {
            "text/plain": [
              "array([[ 9.99999999e-01, -4.05784531e-08, -1.88219494e-08,\n",
              "         5.93150571e-09],\n",
              "       [-3.73683898e-12,  1.00000000e+00,  1.86456645e-11,\n",
              "         5.89915696e-11],\n",
              "       [-5.14828479e-12, -6.38106311e-09,  9.99999996e-01,\n",
              "         4.54505951e-11],\n",
              "       [-7.96146564e-12, -1.43737735e-08, -8.72108779e-09,\n",
              "         1.00000000e+00]])"
            ]
          },
          "metadata": {}
        }
      ]
    }
  ]
}